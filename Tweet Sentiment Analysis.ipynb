{
 "cells": [
  {
   "cell_type": "markdown",
   "id": "immediate-solid",
   "metadata": {},
   "source": [
    "# Tweet Sentiment Analysis\n",
    "\n",
    "Little experiment to classify tweets using the Stochastic Gradient Descent (SGD) linear classifier from sklearn."
   ]
  },
  {
   "cell_type": "code",
   "execution_count": 36,
   "id": "headed-server",
   "metadata": {},
   "outputs": [],
   "source": [
    "import csv\n",
    "import html\n",
    "import numpy as np\n",
    "import preprocessor\n",
    "import matplotlib.pyplot as plt\n",
    "from sklearn.linear_model import SGDClassifier\n",
    "from sklearn.model_selection import cross_val_score\n",
    "from sklearn.feature_extraction.text import CountVectorizer"
   ]
  },
  {
   "cell_type": "markdown",
   "id": "stainless-inspection",
   "metadata": {},
   "source": [
    "## Preparing data\n",
    "\n",
    "Download Sentiment140 dataset from Kaggle:\n",
    "\n",
    "https://www.kaggle.com/kazanova/sentiment140?select=training.1600000.processed.noemoticon.csv\n",
    "\n",
    "Unzip the data:\n",
    "```\n",
    "$ unzip training.1600000.processed.noemoticon.csv.zip\n",
    "```\n",
    "\n",
    "Too much to crunch all on a laptop, so let's take a random subset of tweets:\n",
    "```\n",
    "$ sort -R training.1600000.processed.noemoticon.csv | head -n 20000 > tweet-data-random.csv\n",
    "```\n",
    "\n",
    "We can now work with `tweet-data-random.csv`."
   ]
  },
  {
   "cell_type": "code",
   "execution_count": 29,
   "id": "economic-soldier",
   "metadata": {},
   "outputs": [],
   "source": [
    "# load texts and sentiments in ordered lists\n",
    "\n",
    "texts = []\n",
    "sentiments = []\n",
    "\n",
    "\n",
    "def clean_text(text):\n",
    "    \"\"\"\n",
    "    Clean input text with tweet-preprocessor and html.unescape\n",
    "    This will remove emojis, urls, hashtags, @ mentions and html special char encoding\n",
    "    \"\"\"\n",
    "    text = preprocessor.clean(text)\n",
    "    text = html.unescape(text)\n",
    "    return text\n",
    "\n",
    "\n",
    "csv_fields = [\"sentiment\", \"id\", \"date\", \"flag\", \"user\", \"text\"]\n",
    "with open(\"data/tweet-data-random.csv\") as csvfile:\n",
    "    tweet_reader = csv.DictReader(csvfile, delimiter=\",\", quotechar='\"', fieldnames=csv_fields)\n",
    "    for tweet in tweet_reader:\n",
    "        sentiments.append(tweet[\"sentiment\"])\n",
    "        texts.append(clean_text(tweet[\"text\"]))"
   ]
  },
  {
   "cell_type": "code",
   "execution_count": 103,
   "id": "leading-provincial",
   "metadata": {},
   "outputs": [],
   "source": [
    "# get labels from sentiments\n",
    "# 'sentiment = 0' is negative and will stay 'labels[i] = 0'\n",
    "# 'sentiment = 4' is positive and will become 'labels[i] = 1'\n",
    "\n",
    "labels = np.array(list(map(lambda x: 0 if x == '0' else 1, sentiments)))\n",
    "\n",
    "# get feature from texts\n",
    "# CountVectorizer implements tokenization and counting of input corpus (i.e. does bag of words)\n",
    "vectorizer = CountVectorizer()\n",
    "features = vectorizer.fit_transform(texts)"
   ]
  },
  {
   "cell_type": "markdown",
   "id": "indirect-recognition",
   "metadata": {},
   "source": [
    "We now have a numpy array of `labels` and an associated features matrix with `features.toarray()`.\n",
    "\n",
    "We will use some of these for training and the rest for testing:"
   ]
  },
  {
   "cell_type": "code",
   "execution_count": 31,
   "id": "expanded-italian",
   "metadata": {},
   "outputs": [],
   "source": [
    "split_index = int(0.90 * len(labels))\n",
    "\n",
    "train_labels, test_labels = np.split(labels, [split_index])\n",
    "train_features, test_features = np.split(features.toarray(), [split_index])"
   ]
  },
  {
   "cell_type": "markdown",
   "id": "biological-keeping",
   "metadata": {},
   "source": [
    "## Hyperparameter optimization\n",
    "\n",
    "We use the Stochastic Gradient Descent classifier (`SGDClassifier`). This uses the derivative of the objective function J to determine the direction in which to update `theta` to minimize J. This way, every update we end up with a smaller `J(theta)`.\n",
    "\n",
    "The hyperparameter `alpha` is the regularization parameter. In the objective function, `alpha` balances between average hinge loss and the regularization function R. The higher `alpha`, the higher R and the larger the margins around the decision boundary. The role of R is to prever overfitting `theta` to training data.\n",
    "\n",
    "We loop through many values of `alpha` to find the value that maximizes accuracy. We use cross-validation here with `cv = 5`. This means we split the training data into five sets, and use four of them for training and one for validation, iterating five times such that every set is used for validation once, and then taking the mean."
   ]
  },
  {
   "cell_type": "code",
   "execution_count": 95,
   "id": "liberal-curtis",
   "metadata": {},
   "outputs": [],
   "source": [
    "def plot_alphas(alpha, val_scores, alpha_star):\n",
    "    \"\"\"\n",
    "    Plots alphas and accuracies\n",
    "    \"\"\"\n",
    "    plt.plot(alpha, val_scores)\n",
    "    plt.axvline(x=alpha_star, color=\"orange\", linestyle=\"dashed\")\n",
    "    plt.xlim(0, alpha[-1])\n",
    "    plt.xlabel('alpha')\n",
    "    plt.ylabel('Mean Cross-Validation Accuracy')\n",
    "    plt.grid(True)\n",
    "    plt.show()\n",
    "\n",
    "\n",
    "def test_alphas():\n",
    "    \"\"\"\n",
    "    Loop through some alphas and return tuple (alphas, accuracies)\n",
    "    \"\"\" \n",
    "    alpha = np.arange(0.0003, 0.0008, 0.00005)\n",
    "    val_scores = np.zeros((len(alpha), 1))\n",
    "\n",
    "    for i in range(len(alpha)):\n",
    "        model = SGDClassifier(alpha=alpha[i])\n",
    "        score = cross_val_score(model, train_features, train_labels, cv=5)\n",
    "        val_scores[i] = score.mean()\n",
    "    \n",
    "    return alpha, val_scores\n",
    "\n",
    "        \n",
    "def get_alpha_star(alpha, val_scores):\n",
    "    \"\"\"\n",
    "    Returns best alpha\n",
    "    \"\"\"\n",
    "    alpha_star_index = np.argmax(val_scores)\n",
    "    alpha_star = alpha[alpha_star_index]\n",
    "    return alpha_star"
   ]
  },
  {
   "cell_type": "code",
   "execution_count": 96,
   "id": "ordered-writing",
   "metadata": {},
   "outputs": [
    {
     "data": {
      "image/png": "[encoded data removed]",
      "text/plain": [
       "<Figure size 432x288 with 1 Axes>"
      ]
     },
     "metadata": {
      "needs_background": "light"
     },
     "output_type": "display_data"
    },
    {
     "name": "stdout",
     "output_type": "stream",
     "text": [
      "Optimal alpha = 0.0006500000000000002\n"
     ]
    }
   ],
   "source": [
    "alphas, val_scores = test_alphas()\n",
    "alpha_star = get_alpha_star(alphas, val_scores)\n",
    "plot_alphas(alphas, val_scores, alpha_star)\n",
    "print(f\"Optimal alpha = {alpha_star}\")"
   ]
  },
  {
   "cell_type": "markdown",
   "id": "whole-promise",
   "metadata": {},
   "source": [
    "## Training and Testing"
   ]
  },
  {
   "cell_type": "code",
   "execution_count": 97,
   "id": "fitted-invention",
   "metadata": {},
   "outputs": [
    {
     "name": "stdout",
     "output_type": "stream",
     "text": [
      "Accuracy: 0.763\n"
     ]
    }
   ],
   "source": [
    "model = SGDClassifier(alpha=alpha_star)\n",
    "model_trained = model.fit(train_features, train_labels)\n",
    "print('Accuracy:', model_trained.score(test_features, test_labels))"
   ]
  },
  {
   "cell_type": "markdown",
   "id": "greater-cigarette",
   "metadata": {},
   "source": [
    "## Explore\n",
    "\n",
    "### Classify some tweets\n",
    "Let's try to classify some new tweets. These don't show up in either the training or testing data used so far."
   ]
  },
  {
   "cell_type": "code",
   "execution_count": 182,
   "id": "widespread-bedroom",
   "metadata": {},
   "outputs": [],
   "source": [
    "some_tweets = [\n",
    "    \"im meeting up with one of my besties tonight! Cant wait!!  - GIRL TALK!!\",\n",
    "    \"@hawaii808shellz hAhAHA!! omG! we wer bOth laughiN off d hOOk!  cuz das hOW we roLLL...ryt sheLdawg?\",\n",
    "    \"happy to spend time with the family. \",\n",
    "    \"Aw i'm holding my new puppy. Well He's not mine but He's a cutie. \",\n",
    "    \"spring break in plain city... it's snowing \",\n",
    "    \"about to file taxes \",\n",
    "    \"im sad now  Miss.Lilly\",\n",
    "    \"Meh... Almost Lover is the exception... this track gets me depressed every time. \",\n",
    "    \"this week is not going as i had hoped \",\n",
    "]\n",
    "\n",
    "clean_some_tweets = list(map(clean_text, more_tweets))\n",
    "some_features = vectorizer.transform(clean_more_tweets)\n",
    "some_classified_tweets = model_trained.predict(more_features)"
   ]
  },
  {
   "cell_type": "code",
   "execution_count": 184,
   "id": "exposed-pattern",
   "metadata": {},
   "outputs": [
    {
     "name": "stdout",
     "output_type": "stream",
     "text": [
      "0 positive im meeting up with one of my besties tonight! Cant wait!!  - GIRL TALK!!\n",
      "1 positive @hawaii808shellz hAhAHA!! omG! we wer bOth laughiN off d hOOk!  cuz das hOW we roLLL...ryt sheLdawg?\n",
      "2 positive happy to spend time with the family. \n",
      "3 negative Aw i'm holding my new puppy. Well He's not mine but He's a cutie. \n",
      "4 positive spring break in plain city... it's snowing \n",
      "5 negative about to file taxes \n",
      "6 negative im sad now  Miss.Lilly\n",
      "7 negative Meh... Almost Lover is the exception... this track gets me depressed every time. \n",
      "8 negative this week is not going as i had hoped \n"
     ]
    }
   ],
   "source": [
    "for i in range(len(some_tweets)):\n",
    "    sentiment = \"positive\" if some_classified_tweets[i] else \"negative\"\n",
    "    print(i, sentiment, some_tweets[i])"
   ]
  },
  {
   "cell_type": "markdown",
   "id": "loving-allergy",
   "metadata": {},
   "source": [
    "Nice! It looks like only one tweet is misclassified."
   ]
  },
  {
   "cell_type": "markdown",
   "id": "romantic-emergency",
   "metadata": {},
   "source": [
    "### Most explanatory unigrams"
   ]
  },
  {
   "cell_type": "code",
   "execution_count": 179,
   "id": "hundred-consolidation",
   "metadata": {},
   "outputs": [],
   "source": [
    "sorted_coef = model_trained.coef_[0].argsort()\n",
    "\n",
    "\n",
    "def get_word_by_index(index, vocabulary):\n",
    "    \"\"\"\n",
    "    Returns a word given it's index in the CountVectorizer vocabulary\n",
    "    \"\"\"\n",
    "    for key, value in vocabulary.items():\n",
    "        if value == index:\n",
    "            return key"
   ]
  },
  {
   "cell_type": "markdown",
   "id": "adapted-primary",
   "metadata": {},
   "source": [
    "#### Top 5 positive unigrams"
   ]
  },
  {
   "cell_type": "code",
   "execution_count": 180,
   "id": "revolutionary-consumer",
   "metadata": {},
   "outputs": [
    {
     "name": "stdout",
     "output_type": "stream",
     "text": [
      "yay\n",
      "thanks\n",
      "great\n",
      "smile\n",
      "welcome\n"
     ]
    }
   ],
   "source": [
    "for index in list(reversed(sorted_coef))[:5]:\n",
    "    word = get_word_by_index(index, vectorizer.vocabulary_)\n",
    "    print(word)"
   ]
  },
  {
   "cell_type": "markdown",
   "id": "unsigned-sheep",
   "metadata": {},
   "source": [
    "#### Top 5 negative unigrams"
   ]
  },
  {
   "cell_type": "code",
   "execution_count": 181,
   "id": "christian-continuity",
   "metadata": {},
   "outputs": [
    {
     "name": "stdout",
     "output_type": "stream",
     "text": [
      "sad\n",
      "miss\n",
      "sick\n",
      "sucks\n",
      "missing\n"
     ]
    }
   ],
   "source": [
    "for index in sorted_coef[:5]:\n",
    "    word = get_word_by_index(index, vectorizer.vocabulary_)\n",
    "    print(word)"
   ]
  }
 ],
 "metadata": {
  "kernelspec": {
   "display_name": "Python 3",
   "language": "python",
   "name": "python3"
  },
  "language_info": {
   "codemirror_mode": {
    "name": "ipython",
    "version": 3
   },
   "file_extension": ".py",
   "mimetype": "text/x-python",
   "name": "python",
   "nbconvert_exporter": "python",
   "pygments_lexer": "ipython3",
   "version": "3.8.6"
  }
 },
 "nbformat": 4,
 "nbformat_minor": 5
}
