{
 "cells": [
  {
   "cell_type": "markdown",
   "id": "stopped-child",
   "metadata": {},
   "source": [
    "# Visualising the SVM Update\n",
    "\n",
    "This is a small notebook to help me visualise the update step a Support Vector Machine (SVM) using Stochastic Gradient Descent (SGD). "
   ]
  },
  {
   "cell_type": "code",
   "execution_count": 1,
   "id": "thrown-cookie",
   "metadata": {},
   "outputs": [
    {
     "data": {
      "application/javascript": [
       "\n",
       "            setTimeout(function() {\n",
       "                var nbb_cell_id = 1;\n",
       "                var nbb_unformatted_code = \"import numpy as np\\nimport matplotlib.pyplot as plt\\n\\n%reload_ext nb_black\";\n",
       "                var nbb_formatted_code = \"import numpy as np\\nimport matplotlib.pyplot as plt\\n\\n%reload_ext nb_black\";\n",
       "                var nbb_cells = Jupyter.notebook.get_cells();\n",
       "                for (var i = 0; i < nbb_cells.length; ++i) {\n",
       "                    if (nbb_cells[i].input_prompt_number == nbb_cell_id) {\n",
       "                        if (nbb_cells[i].get_text() == nbb_unformatted_code) {\n",
       "                             nbb_cells[i].set_text(nbb_formatted_code);\n",
       "                        }\n",
       "                        break;\n",
       "                    }\n",
       "                }\n",
       "            }, 500);\n",
       "            "
      ],
      "text/plain": [
       "<IPython.core.display.Javascript object>"
      ]
     },
     "metadata": {},
     "output_type": "display_data"
    }
   ],
   "source": [
    "import numpy as np\n",
    "import matplotlib.pyplot as plt\n",
    "\n",
    "%reload_ext nb_black"
   ]
  },
  {
   "cell_type": "code",
   "execution_count": 2,
   "id": "owned-horror",
   "metadata": {},
   "outputs": [
    {
     "data": {
      "application/javascript": [
       "\n",
       "            setTimeout(function() {\n",
       "                var nbb_cell_id = 2;\n",
       "                var nbb_unformatted_code = \"def get_line_slope_from_vector(v):\\n    \\\"\\\"\\\"Returns the slope of the straight line defined by the input vector.\\\"\\\"\\\"\\n    w = np.array([v[1], -v[0]])\\n    return w[1] / w[0]\\n\\n\\ndef plot_svm(theta):\\n    \\\"\\\"\\\"Plots the support vector machine defined by theta.\\\"\\\"\\\"\\n    plt.axis([-2, 2, -2, 2])\\n    plt.axhline(0, color=\\\"lightgrey\\\")\\n    plt.axvline(0, color=\\\"lightgrey\\\")\\n    plt.gca().set_aspect(\\\"equal\\\")\\n    # plot theta vector\\n    plt.quiver(0, 0, theta[0], theta[1], units=\\\"xy\\\", scale=1)\\n    # plot decision boundary\\n    slope = get_line_slope_from_vector(theta)\\n    plt.axline((0, 0), slope=slope, color=\\\"black\\\", linestyle=\\\"solid\\\")\\n    # plot margins\\n    d = 1 / np.linalg.norm(theta)\\n    plt.axline((d, 0), slope=slope, color=\\\"black\\\", linestyle=\\\"dotted\\\")\\n    plt.axline((-d, 0), slope=slope, color=\\\"black\\\", linestyle=\\\"dotted\\\")\\n\\n\\ndef plot_point(x):\\n    \\\"\\\"\\\"Plot point defined by vector x.\\\"\\\"\\\"\\n    plt.plot(x[0], x[1], marker=\\\"+\\\")\";\n",
       "                var nbb_formatted_code = \"def get_line_slope_from_vector(v):\\n    \\\"\\\"\\\"Returns the slope of the straight line defined by the input vector.\\\"\\\"\\\"\\n    w = np.array([v[1], -v[0]])\\n    return w[1] / w[0]\\n\\n\\ndef plot_svm(theta):\\n    \\\"\\\"\\\"Plots the support vector machine defined by theta.\\\"\\\"\\\"\\n    plt.axis([-2, 2, -2, 2])\\n    plt.axhline(0, color=\\\"lightgrey\\\")\\n    plt.axvline(0, color=\\\"lightgrey\\\")\\n    plt.gca().set_aspect(\\\"equal\\\")\\n    # plot theta vector\\n    plt.quiver(0, 0, theta[0], theta[1], units=\\\"xy\\\", scale=1)\\n    # plot decision boundary\\n    slope = get_line_slope_from_vector(theta)\\n    plt.axline((0, 0), slope=slope, color=\\\"black\\\", linestyle=\\\"solid\\\")\\n    # plot margins\\n    d = 1 / np.linalg.norm(theta)\\n    plt.axline((d, 0), slope=slope, color=\\\"black\\\", linestyle=\\\"dotted\\\")\\n    plt.axline((-d, 0), slope=slope, color=\\\"black\\\", linestyle=\\\"dotted\\\")\\n\\n\\ndef plot_point(x):\\n    \\\"\\\"\\\"Plot point defined by vector x.\\\"\\\"\\\"\\n    plt.plot(x[0], x[1], marker=\\\"+\\\")\";\n",
       "                var nbb_cells = Jupyter.notebook.get_cells();\n",
       "                for (var i = 0; i < nbb_cells.length; ++i) {\n",
       "                    if (nbb_cells[i].input_prompt_number == nbb_cell_id) {\n",
       "                        if (nbb_cells[i].get_text() == nbb_unformatted_code) {\n",
       "                             nbb_cells[i].set_text(nbb_formatted_code);\n",
       "                        }\n",
       "                        break;\n",
       "                    }\n",
       "                }\n",
       "            }, 500);\n",
       "            "
      ],
      "text/plain": [
       "<IPython.core.display.Javascript object>"
      ]
     },
     "metadata": {},
     "output_type": "display_data"
    }
   ],
   "source": [
    "def get_line_slope_from_vector(v):\n",
    "    \"\"\"Returns the slope of the straight line defined by the input vector.\"\"\"\n",
    "    w = np.array([v[1], -v[0]])\n",
    "    return w[1] / w[0]\n",
    "\n",
    "\n",
    "def plot_svm(theta):\n",
    "    \"\"\"Plots the support vector machine defined by theta.\"\"\"\n",
    "    plt.axis([-2, 2, -2, 2])\n",
    "    plt.axhline(0, color=\"lightgrey\")\n",
    "    plt.axvline(0, color=\"lightgrey\")\n",
    "    plt.gca().set_aspect(\"equal\")\n",
    "    # plot theta vector\n",
    "    plt.quiver(0, 0, theta[0], theta[1], units=\"xy\", scale=1)\n",
    "    # plot decision boundary\n",
    "    slope = get_line_slope_from_vector(theta)\n",
    "    plt.axline((0, 0), slope=slope, color=\"black\", linestyle=\"solid\")\n",
    "    # plot margins\n",
    "    d = 1 / np.linalg.norm(theta)\n",
    "    plt.axline((d, 0), slope=slope, color=\"black\", linestyle=\"dotted\")\n",
    "    plt.axline((-d, 0), slope=slope, color=\"black\", linestyle=\"dotted\")\n",
    "\n",
    "\n",
    "def plot_point(x):\n",
    "    \"\"\"Plot point defined by vector x.\"\"\"\n",
    "    plt.plot(x[0], x[1], marker=\"+\")"
   ]
  },
  {
   "cell_type": "markdown",
   "id": "fifty-legislation",
   "metadata": {},
   "source": [
    "We'll initialise `theta` and check what the SVM looks like:"
   ]
  },
  {
   "cell_type": "code",
   "execution_count": 3,
   "id": "large-nation",
   "metadata": {},
   "outputs": [
    {
     "data": {
      "application/javascript": [
       "\n",
       "            setTimeout(function() {\n",
       "                var nbb_cell_id = 3;\n",
       "                var nbb_unformatted_code = \"theta = np.array([1, 1])\";\n",
       "                var nbb_formatted_code = \"theta = np.array([1, 1])\";\n",
       "                var nbb_cells = Jupyter.notebook.get_cells();\n",
       "                for (var i = 0; i < nbb_cells.length; ++i) {\n",
       "                    if (nbb_cells[i].input_prompt_number == nbb_cell_id) {\n",
       "                        if (nbb_cells[i].get_text() == nbb_unformatted_code) {\n",
       "                             nbb_cells[i].set_text(nbb_formatted_code);\n",
       "                        }\n",
       "                        break;\n",
       "                    }\n",
       "                }\n",
       "            }, 500);\n",
       "            "
      ],
      "text/plain": [
       "<IPython.core.display.Javascript object>"
      ]
     },
     "metadata": {},
     "output_type": "display_data"
    }
   ],
   "source": [
    "theta = np.array([1, 1])"
   ]
  },
  {
   "cell_type": "code",
   "execution_count": 4,
   "id": "acquired-bosnia",
   "metadata": {},
   "outputs": [
    {
     "data": {
      "image/png": "[encoded data removed]",
      "text/plain": [
       "<Figure size 432x288 with 1 Axes>"
      ]
     },
     "metadata": {
      "needs_background": "light"
     },
     "output_type": "display_data"
    },
    {
     "data": {
      "application/javascript": [
       "\n",
       "            setTimeout(function() {\n",
       "                var nbb_cell_id = 4;\n",
       "                var nbb_unformatted_code = \"plot_svm(theta)\";\n",
       "                var nbb_formatted_code = \"plot_svm(theta)\";\n",
       "                var nbb_cells = Jupyter.notebook.get_cells();\n",
       "                for (var i = 0; i < nbb_cells.length; ++i) {\n",
       "                    if (nbb_cells[i].input_prompt_number == nbb_cell_id) {\n",
       "                        if (nbb_cells[i].get_text() == nbb_unformatted_code) {\n",
       "                             nbb_cells[i].set_text(nbb_formatted_code);\n",
       "                        }\n",
       "                        break;\n",
       "                    }\n",
       "                }\n",
       "            }, 500);\n",
       "            "
      ],
      "text/plain": [
       "<IPython.core.display.Javascript object>"
      ]
     },
     "metadata": {},
     "output_type": "display_data"
    }
   ],
   "source": [
    "plot_svm(theta)"
   ]
  },
  {
   "cell_type": "code",
   "execution_count": 5,
   "id": "front-germany",
   "metadata": {},
   "outputs": [
    {
     "data": {
      "application/javascript": [
       "\n",
       "            setTimeout(function() {\n",
       "                var nbb_cell_id = 5;\n",
       "                var nbb_unformatted_code = \"def hinge_loss_gradient(theta, x, y):\\n    \\\"\\\"\\\"Returns value of hinge loss derivative w.r.t. theta.\\\"\\\"\\\"\\n    z = y * np.dot(theta, x)\\n    if z < 1:\\n        return -y * x\\n    return np.zeros(x.shape[0])\\n\\n\\ndef regularization_gradient(theta, lambda_):\\n    \\\"\\\"\\\"Returns value of derivative w.r.t. theta of the regularization term.\\\"\\\"\\\"\\n    return lambda_ * theta\\n\\n\\ndef sgd_update(theta, x, y, lambda_=0.6, learning_rate=0.8):\\n    \\\"\\\"\\\"Perfoms a single step of SVM update using SGD.\\\"\\\"\\\"\\n    print(\\\"Hinge Loss gradient:\\\", hinge_loss_gradient(theta, x, y))\\n    print(\\\"Regularization gradient:\\\", regularization_gradient(theta, lambda_))\\n    return theta - learning_rate * (\\n        hinge_loss_gradient(theta, x, y) + regularization_gradient(theta, lambda_)\\n    )\";\n",
       "                var nbb_formatted_code = \"def hinge_loss_gradient(theta, x, y):\\n    \\\"\\\"\\\"Returns value of hinge loss derivative w.r.t. theta.\\\"\\\"\\\"\\n    z = y * np.dot(theta, x)\\n    if z < 1:\\n        return -y * x\\n    return np.zeros(x.shape[0])\\n\\n\\ndef regularization_gradient(theta, lambda_):\\n    \\\"\\\"\\\"Returns value of derivative w.r.t. theta of the regularization term.\\\"\\\"\\\"\\n    return lambda_ * theta\\n\\n\\ndef sgd_update(theta, x, y, lambda_=0.6, learning_rate=0.8):\\n    \\\"\\\"\\\"Perfoms a single step of SVM update using SGD.\\\"\\\"\\\"\\n    print(\\\"Hinge Loss gradient:\\\", hinge_loss_gradient(theta, x, y))\\n    print(\\\"Regularization gradient:\\\", regularization_gradient(theta, lambda_))\\n    return theta - learning_rate * (\\n        hinge_loss_gradient(theta, x, y) + regularization_gradient(theta, lambda_)\\n    )\";\n",
       "                var nbb_cells = Jupyter.notebook.get_cells();\n",
       "                for (var i = 0; i < nbb_cells.length; ++i) {\n",
       "                    if (nbb_cells[i].input_prompt_number == nbb_cell_id) {\n",
       "                        if (nbb_cells[i].get_text() == nbb_unformatted_code) {\n",
       "                             nbb_cells[i].set_text(nbb_formatted_code);\n",
       "                        }\n",
       "                        break;\n",
       "                    }\n",
       "                }\n",
       "            }, 500);\n",
       "            "
      ],
      "text/plain": [
       "<IPython.core.display.Javascript object>"
      ]
     },
     "metadata": {},
     "output_type": "display_data"
    }
   ],
   "source": [
    "def hinge_loss_gradient(theta, x, y):\n",
    "    \"\"\"Returns value of hinge loss derivative w.r.t. theta.\"\"\"\n",
    "    z = y * np.dot(theta, x)\n",
    "    if z < 1:\n",
    "        return -y * x\n",
    "    return np.zeros(x.shape[0])\n",
    "\n",
    "\n",
    "def regularization_gradient(theta, lambda_):\n",
    "    \"\"\"Returns value of derivative w.r.t. theta of the regularization term.\"\"\"\n",
    "    return lambda_ * theta\n",
    "\n",
    "\n",
    "def sgd_update(theta, x, y, lambda_=0.6, learning_rate=0.8):\n",
    "    \"\"\"Perfoms a single step of SVM update using SGD.\"\"\"\n",
    "    print(\"Hinge Loss gradient:\", hinge_loss_gradient(theta, x, y))\n",
    "    print(\"Regularization gradient:\", regularization_gradient(theta, lambda_))\n",
    "    return theta - learning_rate * (\n",
    "        hinge_loss_gradient(theta, x, y) + regularization_gradient(theta, lambda_)\n",
    "    )"
   ]
  },
  {
   "cell_type": "markdown",
   "id": "sharp-reservoir",
   "metadata": {},
   "source": [
    "## Updating with Small Learning Rate\n",
    "\n",
    "We'll start with a small learning rate.\n",
    "\n",
    "### Outside Margin\n",
    "\n",
    "The point `x_1` is accurately classified and just outside the decision boundary margins:"
   ]
  },
  {
   "cell_type": "code",
   "execution_count": 6,
   "id": "swedish-binary",
   "metadata": {},
   "outputs": [
    {
     "data": {
      "image/png": "[encoded data removed]",
      "text/plain": [
       "<Figure size 432x288 with 1 Axes>"
      ]
     },
     "metadata": {
      "needs_background": "light"
     },
     "output_type": "display_data"
    },
    {
     "data": {
      "application/javascript": [
       "\n",
       "            setTimeout(function() {\n",
       "                var nbb_cell_id = 6;\n",
       "                var nbb_unformatted_code = \"x_1 = np.array([0.2, 1])\\ny_1 = 1\\nplot_svm(theta)\\nplot_point(x_1)\";\n",
       "                var nbb_formatted_code = \"x_1 = np.array([0.2, 1])\\ny_1 = 1\\nplot_svm(theta)\\nplot_point(x_1)\";\n",
       "                var nbb_cells = Jupyter.notebook.get_cells();\n",
       "                for (var i = 0; i < nbb_cells.length; ++i) {\n",
       "                    if (nbb_cells[i].input_prompt_number == nbb_cell_id) {\n",
       "                        if (nbb_cells[i].get_text() == nbb_unformatted_code) {\n",
       "                             nbb_cells[i].set_text(nbb_formatted_code);\n",
       "                        }\n",
       "                        break;\n",
       "                    }\n",
       "                }\n",
       "            }, 500);\n",
       "            "
      ],
      "text/plain": [
       "<IPython.core.display.Javascript object>"
      ]
     },
     "metadata": {},
     "output_type": "display_data"
    }
   ],
   "source": [
    "x_1 = np.array([0.2, 1])\n",
    "y_1 = 1\n",
    "plot_svm(theta)\n",
    "plot_point(x_1)"
   ]
  },
  {
   "cell_type": "code",
   "execution_count": 7,
   "id": "awful-fisher",
   "metadata": {},
   "outputs": [
    {
     "name": "stdout",
     "output_type": "stream",
     "text": [
      "Theta before update: [1 1]\n",
      "Hinge Loss gradient: [0. 0.]\n",
      "Regularization gradient: [0.6 0.6]\n",
      "Theta after update: [0.88 0.88]\n"
     ]
    },
    {
     "data": {
      "image/png": "[encoded data removed]",
      "text/plain": [
       "<Figure size 432x288 with 1 Axes>"
      ]
     },
     "metadata": {
      "needs_background": "light"
     },
     "output_type": "display_data"
    },
    {
     "data": {
      "application/javascript": [
       "\n",
       "            setTimeout(function() {\n",
       "                var nbb_cell_id = 7;\n",
       "                var nbb_unformatted_code = \"print(\\\"Theta before update:\\\", theta)\\ntheta_1 = sgd_update(theta, x_1, y_1, learning_rate=0.2)\\nprint(\\\"Theta after update:\\\", theta_1)\\nplot_svm(theta_1)\\nplot_point(x_1)\";\n",
       "                var nbb_formatted_code = \"print(\\\"Theta before update:\\\", theta)\\ntheta_1 = sgd_update(theta, x_1, y_1, learning_rate=0.2)\\nprint(\\\"Theta after update:\\\", theta_1)\\nplot_svm(theta_1)\\nplot_point(x_1)\";\n",
       "                var nbb_cells = Jupyter.notebook.get_cells();\n",
       "                for (var i = 0; i < nbb_cells.length; ++i) {\n",
       "                    if (nbb_cells[i].input_prompt_number == nbb_cell_id) {\n",
       "                        if (nbb_cells[i].get_text() == nbb_unformatted_code) {\n",
       "                             nbb_cells[i].set_text(nbb_formatted_code);\n",
       "                        }\n",
       "                        break;\n",
       "                    }\n",
       "                }\n",
       "            }, 500);\n",
       "            "
      ],
      "text/plain": [
       "<IPython.core.display.Javascript object>"
      ]
     },
     "metadata": {},
     "output_type": "display_data"
    }
   ],
   "source": [
    "print(\"Theta before update:\", theta)\n",
    "theta_1 = sgd_update(theta, x_1, y_1, learning_rate=0.2)\n",
    "print(\"Theta after update:\", theta_1)\n",
    "plot_svm(theta_1)\n",
    "plot_point(x_1)"
   ]
  },
  {
   "cell_type": "markdown",
   "id": "authentic-occasions",
   "metadata": {},
   "source": [
    "We note that the hinge loss gradient is [0, 0] as the point is correctly classified. As such the direction of `theta` is not going to change. The norm is going to shrink because of the regularization gradient, and since the norm is inversely correlated with the margins, the margins will grow (although hardly visible above)."
   ]
  },
  {
   "cell_type": "markdown",
   "id": "commercial-behavior",
   "metadata": {},
   "source": [
    "### Inside Margin\n",
    "\n"
   ]
  },
  {
   "cell_type": "markdown",
   "id": "about-bahamas",
   "metadata": {},
   "source": [
    "This time the point we're using to update sits within the margins (but still on the right side of the decision boundary)."
   ]
  },
  {
   "cell_type": "code",
   "execution_count": 8,
   "id": "gentle-philadelphia",
   "metadata": {},
   "outputs": [
    {
     "data": {
      "image/png": "[encoded data removed]",
      "text/plain": [
       "<Figure size 432x288 with 1 Axes>"
      ]
     },
     "metadata": {
      "needs_background": "light"
     },
     "output_type": "display_data"
    },
    {
     "data": {
      "application/javascript": [
       "\n",
       "            setTimeout(function() {\n",
       "                var nbb_cell_id = 8;\n",
       "                var nbb_unformatted_code = \"x_2 = np.array([-0.4, 1])\\ny_2 = 1\\nplot_svm(theta)\\nplot_point(x_2)\";\n",
       "                var nbb_formatted_code = \"x_2 = np.array([-0.4, 1])\\ny_2 = 1\\nplot_svm(theta)\\nplot_point(x_2)\";\n",
       "                var nbb_cells = Jupyter.notebook.get_cells();\n",
       "                for (var i = 0; i < nbb_cells.length; ++i) {\n",
       "                    if (nbb_cells[i].input_prompt_number == nbb_cell_id) {\n",
       "                        if (nbb_cells[i].get_text() == nbb_unformatted_code) {\n",
       "                             nbb_cells[i].set_text(nbb_formatted_code);\n",
       "                        }\n",
       "                        break;\n",
       "                    }\n",
       "                }\n",
       "            }, 500);\n",
       "            "
      ],
      "text/plain": [
       "<IPython.core.display.Javascript object>"
      ]
     },
     "metadata": {},
     "output_type": "display_data"
    }
   ],
   "source": [
    "x_2 = np.array([-0.4, 1])\n",
    "y_2 = 1\n",
    "plot_svm(theta)\n",
    "plot_point(x_2)"
   ]
  },
  {
   "cell_type": "code",
   "execution_count": 9,
   "id": "informed-undergraduate",
   "metadata": {},
   "outputs": [
    {
     "name": "stdout",
     "output_type": "stream",
     "text": [
      "Theta before update: [1 1]\n",
      "Hinge Loss gradient: [ 0.4 -1. ]\n",
      "Regularization gradient: [0.6 0.6]\n",
      "Theta after update: [0.8  1.08]\n"
     ]
    },
    {
     "data": {
      "image/png": "[encoded data removed]",
      "text/plain": [
       "<Figure size 432x288 with 1 Axes>"
      ]
     },
     "metadata": {
      "needs_background": "light"
     },
     "output_type": "display_data"
    },
    {
     "data": {
      "application/javascript": [
       "\n",
       "            setTimeout(function() {\n",
       "                var nbb_cell_id = 9;\n",
       "                var nbb_unformatted_code = \"print(\\\"Theta before update:\\\", theta)\\ntheta_2 = sgd_update(theta, x_2, y_2, learning_rate=0.2)\\nprint(\\\"Theta after update:\\\", theta_2)\\nplot_svm(theta_2)\\nplot_point(x_2)\";\n",
       "                var nbb_formatted_code = \"print(\\\"Theta before update:\\\", theta)\\ntheta_2 = sgd_update(theta, x_2, y_2, learning_rate=0.2)\\nprint(\\\"Theta after update:\\\", theta_2)\\nplot_svm(theta_2)\\nplot_point(x_2)\";\n",
       "                var nbb_cells = Jupyter.notebook.get_cells();\n",
       "                for (var i = 0; i < nbb_cells.length; ++i) {\n",
       "                    if (nbb_cells[i].input_prompt_number == nbb_cell_id) {\n",
       "                        if (nbb_cells[i].get_text() == nbb_unformatted_code) {\n",
       "                             nbb_cells[i].set_text(nbb_formatted_code);\n",
       "                        }\n",
       "                        break;\n",
       "                    }\n",
       "                }\n",
       "            }, 500);\n",
       "            "
      ],
      "text/plain": [
       "<IPython.core.display.Javascript object>"
      ]
     },
     "metadata": {},
     "output_type": "display_data"
    }
   ],
   "source": [
    "print(\"Theta before update:\", theta)\n",
    "theta_2 = sgd_update(theta, x_2, y_2, learning_rate=0.2)\n",
    "print(\"Theta after update:\", theta_2)\n",
    "plot_svm(theta_2)\n",
    "plot_point(x_2)"
   ]
  },
  {
   "cell_type": "markdown",
   "id": "suited-graphic",
   "metadata": {},
   "source": [
    "Note that the hinge loss is not null, so both the direction and the norm of `theta` have been updated."
   ]
  },
  {
   "cell_type": "markdown",
   "id": "advised-coffee",
   "metadata": {},
   "source": [
    "## Large Learning Rate\n",
    "\n",
    "We'll run the SGD update on two points, one just outside the margin and one inside the margin.\n",
    "\n",
    "### Outside Margin\n",
    "\n",
    "The point `x_1` is accurately classified and just outside the decision boundary margins:"
   ]
  },
  {
   "cell_type": "code",
   "execution_count": 10,
   "id": "facial-globe",
   "metadata": {},
   "outputs": [
    {
     "data": {
      "image/png": "[encoded data removed]",
      "text/plain": [
       "<Figure size 432x288 with 1 Axes>"
      ]
     },
     "metadata": {
      "needs_background": "light"
     },
     "output_type": "display_data"
    },
    {
     "data": {
      "application/javascript": [
       "\n",
       "            setTimeout(function() {\n",
       "                var nbb_cell_id = 10;\n",
       "                var nbb_unformatted_code = \"x_1 = np.array([0.2, 1])\\ny_1 = 1\\nplot_svm(theta)\\nplot_point(x_1)\";\n",
       "                var nbb_formatted_code = \"x_1 = np.array([0.2, 1])\\ny_1 = 1\\nplot_svm(theta)\\nplot_point(x_1)\";\n",
       "                var nbb_cells = Jupyter.notebook.get_cells();\n",
       "                for (var i = 0; i < nbb_cells.length; ++i) {\n",
       "                    if (nbb_cells[i].input_prompt_number == nbb_cell_id) {\n",
       "                        if (nbb_cells[i].get_text() == nbb_unformatted_code) {\n",
       "                             nbb_cells[i].set_text(nbb_formatted_code);\n",
       "                        }\n",
       "                        break;\n",
       "                    }\n",
       "                }\n",
       "            }, 500);\n",
       "            "
      ],
      "text/plain": [
       "<IPython.core.display.Javascript object>"
      ]
     },
     "metadata": {},
     "output_type": "display_data"
    }
   ],
   "source": [
    "x_1 = np.array([0.2, 1])\n",
    "y_1 = 1\n",
    "plot_svm(theta)\n",
    "plot_point(x_1)"
   ]
  },
  {
   "cell_type": "markdown",
   "id": "embedded-czech",
   "metadata": {},
   "source": [
    "We'll update the SVM with SGD:"
   ]
  },
  {
   "cell_type": "code",
   "execution_count": 11,
   "id": "abroad-chamber",
   "metadata": {},
   "outputs": [
    {
     "name": "stdout",
     "output_type": "stream",
     "text": [
      "Theta before update: [1 1]\n",
      "Hinge Loss gradient: [0. 0.]\n",
      "Regularization gradient: [0.6 0.6]\n",
      "Theta after update: [0.52 0.52]\n"
     ]
    },
    {
     "data": {
      "image/png": "[encoded data removed]",
      "text/plain": [
       "<Figure size 432x288 with 1 Axes>"
      ]
     },
     "metadata": {
      "needs_background": "light"
     },
     "output_type": "display_data"
    },
    {
     "data": {
      "application/javascript": [
       "\n",
       "            setTimeout(function() {\n",
       "                var nbb_cell_id = 11;\n",
       "                var nbb_unformatted_code = \"print(\\\"Theta before update:\\\", theta)\\ntheta_1 = sgd_update(theta, x_1, y_1, learning_rate=0.8)\\nprint(\\\"Theta after update:\\\", theta_1)\\nplot_svm(theta_1)\\nplot_point(x_1)\";\n",
       "                var nbb_formatted_code = \"print(\\\"Theta before update:\\\", theta)\\ntheta_1 = sgd_update(theta, x_1, y_1, learning_rate=0.8)\\nprint(\\\"Theta after update:\\\", theta_1)\\nplot_svm(theta_1)\\nplot_point(x_1)\";\n",
       "                var nbb_cells = Jupyter.notebook.get_cells();\n",
       "                for (var i = 0; i < nbb_cells.length; ++i) {\n",
       "                    if (nbb_cells[i].input_prompt_number == nbb_cell_id) {\n",
       "                        if (nbb_cells[i].get_text() == nbb_unformatted_code) {\n",
       "                             nbb_cells[i].set_text(nbb_formatted_code);\n",
       "                        }\n",
       "                        break;\n",
       "                    }\n",
       "                }\n",
       "            }, 500);\n",
       "            "
      ],
      "text/plain": [
       "<IPython.core.display.Javascript object>"
      ]
     },
     "metadata": {},
     "output_type": "display_data"
    }
   ],
   "source": [
    "print(\"Theta before update:\", theta)\n",
    "theta_1 = sgd_update(theta, x_1, y_1, learning_rate=0.8)\n",
    "print(\"Theta after update:\", theta_1)\n",
    "plot_svm(theta_1)\n",
    "plot_point(x_1)"
   ]
  },
  {
   "cell_type": "markdown",
   "id": "severe-piece",
   "metadata": {},
   "source": [
    "We notice the decision boundary has not changed, however the margins are now larger."
   ]
  },
  {
   "cell_type": "markdown",
   "id": "authentic-message",
   "metadata": {},
   "source": [
    "### Inside Margin"
   ]
  },
  {
   "cell_type": "markdown",
   "id": "reasonable-blanket",
   "metadata": {},
   "source": [
    "This time the point we're using to update sits within the margins (but still on the right side of the decision boundary)."
   ]
  },
  {
   "cell_type": "code",
   "execution_count": 12,
   "id": "entire-yield",
   "metadata": {},
   "outputs": [
    {
     "data": {
      "image/png": "[encoded data removed]",
      "text/plain": [
       "<Figure size 432x288 with 1 Axes>"
      ]
     },
     "metadata": {
      "needs_background": "light"
     },
     "output_type": "display_data"
    },
    {
     "data": {
      "application/javascript": [
       "\n",
       "            setTimeout(function() {\n",
       "                var nbb_cell_id = 12;\n",
       "                var nbb_unformatted_code = \"x_2 = np.array([-0.4, 1])\\ny_2 = 1\\nplot_svm(theta)\\nplot_point(x_2)\";\n",
       "                var nbb_formatted_code = \"x_2 = np.array([-0.4, 1])\\ny_2 = 1\\nplot_svm(theta)\\nplot_point(x_2)\";\n",
       "                var nbb_cells = Jupyter.notebook.get_cells();\n",
       "                for (var i = 0; i < nbb_cells.length; ++i) {\n",
       "                    if (nbb_cells[i].input_prompt_number == nbb_cell_id) {\n",
       "                        if (nbb_cells[i].get_text() == nbb_unformatted_code) {\n",
       "                             nbb_cells[i].set_text(nbb_formatted_code);\n",
       "                        }\n",
       "                        break;\n",
       "                    }\n",
       "                }\n",
       "            }, 500);\n",
       "            "
      ],
      "text/plain": [
       "<IPython.core.display.Javascript object>"
      ]
     },
     "metadata": {},
     "output_type": "display_data"
    }
   ],
   "source": [
    "x_2 = np.array([-0.4, 1])\n",
    "y_2 = 1\n",
    "plot_svm(theta)\n",
    "plot_point(x_2)"
   ]
  },
  {
   "cell_type": "code",
   "execution_count": 13,
   "id": "critical-protein",
   "metadata": {},
   "outputs": [
    {
     "name": "stdout",
     "output_type": "stream",
     "text": [
      "Theta before update: [1 1]\n",
      "Hinge Loss gradient: [ 0.4 -1. ]\n",
      "Regularization gradient: [0.6 0.6]\n",
      "Theta after update: [0.2  1.32]\n"
     ]
    },
    {
     "data": {
      "image/png": "[encoded data removed]",
      "text/plain": [
       "<Figure size 432x288 with 1 Axes>"
      ]
     },
     "metadata": {
      "needs_background": "light"
     },
     "output_type": "display_data"
    },
    {
     "data": {
      "application/javascript": [
       "\n",
       "            setTimeout(function() {\n",
       "                var nbb_cell_id = 13;\n",
       "                var nbb_unformatted_code = \"print(\\\"Theta before update:\\\", theta)\\ntheta_2 = sgd_update(theta, x_2, y_2, learning_rate=0.8)\\nprint(\\\"Theta after update:\\\", theta_2)\\nplot_svm(theta_2)\\nplot_point(x_2)\";\n",
       "                var nbb_formatted_code = \"print(\\\"Theta before update:\\\", theta)\\ntheta_2 = sgd_update(theta, x_2, y_2, learning_rate=0.8)\\nprint(\\\"Theta after update:\\\", theta_2)\\nplot_svm(theta_2)\\nplot_point(x_2)\";\n",
       "                var nbb_cells = Jupyter.notebook.get_cells();\n",
       "                for (var i = 0; i < nbb_cells.length; ++i) {\n",
       "                    if (nbb_cells[i].input_prompt_number == nbb_cell_id) {\n",
       "                        if (nbb_cells[i].get_text() == nbb_unformatted_code) {\n",
       "                             nbb_cells[i].set_text(nbb_formatted_code);\n",
       "                        }\n",
       "                        break;\n",
       "                    }\n",
       "                }\n",
       "            }, 500);\n",
       "            "
      ],
      "text/plain": [
       "<IPython.core.display.Javascript object>"
      ]
     },
     "metadata": {},
     "output_type": "display_data"
    }
   ],
   "source": [
    "print(\"Theta before update:\", theta)\n",
    "theta_2 = sgd_update(theta, x_2, y_2, learning_rate=0.8)\n",
    "print(\"Theta after update:\", theta_2)\n",
    "plot_svm(theta_2)\n",
    "plot_point(x_2)"
   ]
  }
 ],
 "metadata": {
  "kernelspec": {
   "display_name": "Python 3",
   "language": "python",
   "name": "python3"
  },
  "language_info": {
   "codemirror_mode": {
    "name": "ipython",
    "version": 3
   },
   "file_extension": ".py",
   "mimetype": "text/x-python",
   "name": "python",
   "nbconvert_exporter": "python",
   "pygments_lexer": "ipython3",
   "version": "3.8.6"
  }
 },
 "nbformat": 4,
 "nbformat_minor": 5
}
